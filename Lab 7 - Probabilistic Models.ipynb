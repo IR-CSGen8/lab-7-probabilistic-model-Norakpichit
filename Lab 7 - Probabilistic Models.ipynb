{
 "cells": [
  {
   "cell_type": "code",
   "execution_count": 1,
   "id": "3c892250",
   "metadata": {},
   "outputs": [],
   "source": [
    "# Import necessary libraries\n",
    "from collections import defaultdict\n",
    "\n",
    "# Define the documents\n",
    "documents = [\n",
    "    \"I love cats . cats are cute pets.\",\n",
    "    \"Dogs are loyal. Dogs are good friends.\",\n",
    "    \"Birds can sing. Birds fly in the sky.\",\n",
    "    \"Fish live underwater. Fish come in many colors.\"\n",
    "]"
   ]
  },
  {
   "cell_type": "markdown",
   "id": "2a685610",
   "metadata": {},
   "source": [
    "In this section, we define and create unigram models for the documents. Unigrams are single words or terms, and a unigram model represents the probability distribution of individual terms in the document. The unigram_model function counts the occurrences of each term in a document, calculates the probabilities, and returns the unigram model. We create unigram models for all documents in the collection."
   ]
  },
  {
   "cell_type": "markdown",
   "id": "a8d0e623",
   "metadata": {},
   "source": [
    "# Create Unigram Models"
   ]
  },
  {
   "cell_type": "code",
   "execution_count": 2,
   "id": "2d589155",
   "metadata": {},
   "outputs": [],
   "source": [
    "def unigram_model(document):\n",
    "    words = document.split()\n",
    "    total_words = len(words)\n",
    "    unigram_counts = defaultdict(int)\n",
    "    for word in words:\n",
    "        unigram_counts[word] += 1\n",
    "    unigram_model = {word: count / total_words for word, count in unigram_counts.items()}\n",
    "    return unigram_model"
   ]
  },
  {
   "cell_type": "code",
   "execution_count": 3,
   "id": "9c571b22",
   "metadata": {},
   "outputs": [],
   "source": [
    "# Create unigram models for all documents\n",
    "unigram_models = [unigram_model(doc) for doc in documents]"
   ]
  },
  {
   "cell_type": "code",
   "execution_count": 4,
   "id": "a16bdec3",
   "metadata": {},
   "outputs": [
    {
     "data": {
      "text/plain": [
       "[{'I': 0.125,\n",
       "  'love': 0.125,\n",
       "  'cats': 0.25,\n",
       "  '.': 0.125,\n",
       "  'are': 0.125,\n",
       "  'cute': 0.125,\n",
       "  'pets.': 0.125},\n",
       " {'Dogs': 0.2857142857142857,\n",
       "  'are': 0.2857142857142857,\n",
       "  'loyal.': 0.14285714285714285,\n",
       "  'good': 0.14285714285714285,\n",
       "  'friends.': 0.14285714285714285},\n",
       " {'Birds': 0.25,\n",
       "  'can': 0.125,\n",
       "  'sing.': 0.125,\n",
       "  'fly': 0.125,\n",
       "  'in': 0.125,\n",
       "  'the': 0.125,\n",
       "  'sky.': 0.125},\n",
       " {'Fish': 0.25,\n",
       "  'live': 0.125,\n",
       "  'underwater.': 0.125,\n",
       "  'come': 0.125,\n",
       "  'in': 0.125,\n",
       "  'many': 0.125,\n",
       "  'colors.': 0.125}]"
      ]
     },
     "execution_count": 4,
     "metadata": {},
     "output_type": "execute_result"
    }
   ],
   "source": [
    "unigram_models"
   ]
  },
  {
   "cell_type": "code",
   "execution_count": 5,
   "id": "faa6e564",
   "metadata": {},
   "outputs": [],
   "source": [
    "#we have a query \n",
    "query = \"I like cats and dogs\""
   ]
  },
  {
   "cell_type": "code",
   "execution_count": 20,
   "id": "85f84e9b",
   "metadata": {},
   "outputs": [],
   "source": [
    "def calculate_query_probability(query, document_model):\n",
    "    # Tokenize the query into words\n",
    "    query_words = query.split()\n",
    "    \n",
    "    # Initialize the probability for the entire query\n",
    "    query_probability = 1.0\n",
    "    \n",
    "    # Calculate the probability for each term in the query\n",
    "    for word in query_words:\n",
    "        if word in document_model:\n",
    "            query_probability *= document_model[word]\n",
    "        else:\n",
    "            query_probability = 0.0\n",
    "            break\n",
    "    \n",
    "    return query_probability"
   ]
  },
  {
   "cell_type": "code",
   "execution_count": 21,
   "id": "25934062",
   "metadata": {},
   "outputs": [],
   "source": [
    "query_probability = calculate_query_probability(query, unigram_models)"
   ]
  },
  {
   "cell_type": "code",
   "execution_count": 22,
   "id": "e57e1768",
   "metadata": {},
   "outputs": [
    {
     "data": {
      "text/plain": [
       "0.0"
      ]
     },
     "execution_count": 22,
     "metadata": {},
     "output_type": "execute_result"
    }
   ],
   "source": [
    "query_probability"
   ]
  },
  {
   "cell_type": "markdown",
   "id": "f2641c2c",
   "metadata": {},
   "source": [
    "## Your task"
   ]
  },
  {
   "cell_type": "code",
   "execution_count": 55,
   "id": "93b77d11-087c-4a28-9f32-02c3c5e0ee14",
   "metadata": {},
   "outputs": [
    {
     "data": {
      "text/plain": [
       "['I',\n",
       " 'love',\n",
       " 'cats',\n",
       " '.',\n",
       " 'cats',\n",
       " 'are',\n",
       " 'cute',\n",
       " 'pets.',\n",
       " 'Dogs',\n",
       " 'are',\n",
       " 'loyal.',\n",
       " 'Dogs',\n",
       " 'are',\n",
       " 'good',\n",
       " 'friends.',\n",
       " 'Birds',\n",
       " 'can',\n",
       " 'sing.',\n",
       " 'Birds',\n",
       " 'fly',\n",
       " 'in',\n",
       " 'the',\n",
       " 'sky.',\n",
       " 'Fish',\n",
       " 'live',\n",
       " 'underwater.',\n",
       " 'Fish',\n",
       " 'come',\n",
       " 'in',\n",
       " 'many',\n",
       " 'colors.']"
      ]
     },
     "execution_count": 55,
     "metadata": {},
     "output_type": "execute_result"
    }
   ],
   "source": [
    "terms = list()\n",
    "\n",
    "for doc in documents:\n",
    "    for word in doc.split():\n",
    "        terms.append(word)\n",
    "\n",
    "terms"
   ]
  },
  {
   "cell_type": "code",
   "execution_count": 68,
   "id": "771db8aa",
   "metadata": {},
   "outputs": [
    {
     "data": {
      "text/plain": [
       "{'I love cats . cats are cute pets.': '0.000002',\n",
       " 'Dogs are loyal. Dogs are good friends.': '0.000010',\n",
       " 'Birds can sing. Birds fly in the sky.': '0.000002',\n",
       " 'Fish live underwater. Fish come in many colors.': '0.000002'}"
      ]
     },
     "execution_count": 68,
     "metadata": {},
     "output_type": "execute_result"
    }
   ],
   "source": [
    "from collections import Counter\n",
    "\n",
    "# Use Laplace Smoothing for this problem\n",
    "def laplace_smoothing_unigram(query, document):\n",
    "    # length of terms\n",
    "    term_count = Counter(document.split())\n",
    "    # number of unique term\n",
    "    unique_term_count = len(set(document.split()))\n",
    "     # Tokenize the query into words\n",
    "    query_words = query.split()\n",
    "    \n",
    "    # Initialize the probability for the entire query\n",
    "    query_probability = 1.0\n",
    "\n",
    "    # Calculate\n",
    "    for word in query_words:\n",
    "        query_probability *= (term_count['word'] + 1) / (len(term_count) + unique_term_count)\n",
    "    \n",
    "    return query_probability\n",
    "\n",
    "result = {doc: format(laplace_smoothing_unigram(query, doc), 'f') for doc in documents}\n",
    "result\n",
    "def keywithmaxval(d):\n",
    "     \"\"\" a) create a list of the dict's keys and values; \n",
    "         b) return the key with the max value\"\"\"  \n",
    "     v = list(d.values())\n",
    "     k = list(d.keys())\n",
    "     return k[v.index(max(v))]\n",
    "print(f\"The most related document by query '{query}' is '{keywithmax_val}'\")\n",
    "# https://www.exploredatabase.com/2020/10/explain-add-1-laplace-smoothing-with-example.html"
   ]
  },
  {
   "cell_type": "code",
   "execution_count": 60,
   "id": "a7f2705d",
   "metadata": {},
   "outputs": [
    {
     "data": {
      "text/plain": [
       "[{('I', 'love'): 0.125,\n",
       "  ('love', 'cats'): 0.125,\n",
       "  ('cats', '.'): 0.125,\n",
       "  ('.', 'cats'): 0.125,\n",
       "  ('cats', 'are'): 0.125,\n",
       "  ('are', 'cute'): 0.125,\n",
       "  ('cute', 'pets.'): 0.125},\n",
       " {('Dogs', 'are'): 0.21428571428571427,\n",
       "  ('are', 'loyal.'): 0.14285714285714285,\n",
       "  ('loyal.', 'Dogs'): 0.14285714285714285,\n",
       "  ('are', 'good'): 0.14285714285714285,\n",
       "  ('good', 'friends.'): 0.14285714285714285},\n",
       " {('Birds', 'can'): 0.125,\n",
       "  ('can', 'sing.'): 0.125,\n",
       "  ('sing.', 'Birds'): 0.125,\n",
       "  ('Birds', 'fly'): 0.125,\n",
       "  ('fly', 'in'): 0.125,\n",
       "  ('in', 'the'): 0.125,\n",
       "  ('the', 'sky.'): 0.125},\n",
       " {('Fish', 'live'): 0.125,\n",
       "  ('live', 'underwater.'): 0.125,\n",
       "  ('underwater.', 'Fish'): 0.125,\n",
       "  ('Fish', 'come'): 0.125,\n",
       "  ('come', 'in'): 0.125,\n",
       "  ('in', 'many'): 0.125,\n",
       "  ('many', 'colors.'): 0.125}]"
      ]
     },
     "execution_count": 60,
     "metadata": {},
     "output_type": "execute_result"
    }
   ],
   "source": [
    "# create a bigram model & apply smoothing method\n",
    "def laplace_smoothed_bigram_model(document):\n",
    "    words = document.split()\n",
    "    total_words = len(words)\n",
    "    bigram_counts = defaultdict(int)\n",
    "    \n",
    "    # Initialize all bigrams with a count of 1 (Laplace smoothing)\n",
    "    for i in range(total_words - 1):\n",
    "        bigram = (words[i], words[i + 1])\n",
    "        bigram_counts[bigram] += 1\n",
    "    \n",
    "    # Calculate Laplace-smoothed probabilities\n",
    "    bigram_model = {bigram: (count + 1) / (total_words + total_words) for bigram, count in bigram_counts.items()}\n",
    "    return bigram_model\n",
    "\n",
    "bigram_models = [laplace_smoothed_bigram_model(doc) for doc in documents]\n",
    "bigram_models"
   ]
  },
  {
   "cell_type": "code",
   "execution_count": 65,
   "id": "94056660-044f-4fa7-a1a1-7898acff692e",
   "metadata": {},
   "outputs": [
    {
     "name": "stdout",
     "output_type": "stream",
     "text": [
      "Document 1 Laplace-Smoothed Bigram Model:\n",
      "I love: 0.1250\n",
      "love cats: 0.1250\n",
      "cats .: 0.1250\n",
      ". cats: 0.1250\n",
      "cats are: 0.1250\n",
      "are cute: 0.1250\n",
      "cute pets.: 0.1250\n",
      "\n",
      "Document 2 Laplace-Smoothed Bigram Model:\n",
      "Dogs are: 0.2143\n",
      "are loyal.: 0.1429\n",
      "loyal. Dogs: 0.1429\n",
      "are good: 0.1429\n",
      "good friends.: 0.1429\n",
      "\n",
      "Document 3 Laplace-Smoothed Bigram Model:\n",
      "Birds can: 0.1250\n",
      "can sing.: 0.1250\n",
      "sing. Birds: 0.1250\n",
      "Birds fly: 0.1250\n",
      "fly in: 0.1250\n",
      "in the: 0.1250\n",
      "the sky.: 0.1250\n",
      "\n",
      "Document 4 Laplace-Smoothed Bigram Model:\n",
      "Fish live: 0.1250\n",
      "live underwater.: 0.1250\n",
      "underwater. Fish: 0.1250\n",
      "Fish come: 0.1250\n",
      "come in: 0.1250\n",
      "in many: 0.1250\n",
      "many colors.: 0.1250\n",
      "\n",
      "Query Bigram Probabilities for Each Document:\n",
      "Document 1: 0.000026\n",
      "Document 2: 0.000048\n",
      "Document 3: 0.000026\n",
      "Document 4: 0.000026\n",
      "The most probable document for the query is: Dogs are loyal. Dogs are good friends.\n"
     ]
    }
   ],
   "source": [
    "# Print Laplace-smoothed bigram models\n",
    "for i, model in enumerate(bigram_models):\n",
    "    print(f\"Document {i + 1} Laplace-Smoothed Bigram Model:\")\n",
    "    for bigram, probability in model.items():\n",
    "        print(f\"{bigram[0]} {bigram[1]}: {probability:.4f}\")\n",
    "    print()\n",
    "\n",
    "def calculate_query_probability(query, document_model):\n",
    "    query_words = query.split()\n",
    "    query_bigrams = [(query_words[i], query_words[i + 1]) for i in range(len(query_words) - 1)]\n",
    "    \n",
    "    query_probability = 1.0\n",
    "    \n",
    "    for bigram in query_bigrams:\n",
    "        # Apply Laplace smoothing for unseen bigrams using the document_model\n",
    "        bigram_probability = document_model.get(bigram, 1 / (len(document_model) + len(bigram_models[0])))\n",
    "        query_probability *= bigram_probability\n",
    "\n",
    "    return query_probability\n",
    "\n",
    "# Calculate query probability for each document\n",
    "query_probabilities = []\n",
    "\n",
    "for document_model in bigram_models:\n",
    "    probability = calculate_query_probability(query, document_model)\n",
    "    query_probabilities.append(probability)\n",
    "\n",
    "# Find the document with the highest probability for the query\n",
    "most_probable_document_index = query_probabilities.index(max(query_probabilities))\n",
    "most_probable_document = documents[most_probable_document_index]\n",
    "\n",
    "print(\"Query Bigram Probabilities for Each Document:\")\n",
    "for i, probability in enumerate(query_probabilities):\n",
    "    print(f\"Document {i + 1}: {probability:.6f}\")\n",
    "\n",
    "print(\"The most probable document for the query is:\", most_probable_document)\n"
   ]
  },
  {
   "cell_type": "code",
   "execution_count": null,
   "id": "25e94187-747c-4c74-a850-d4e5fe969045",
   "metadata": {},
   "outputs": [],
   "source": []
  }
 ],
 "metadata": {
  "kernelspec": {
   "display_name": "Python 3 (ipykernel)",
   "language": "python",
   "name": "python3"
  },
  "language_info": {
   "codemirror_mode": {
    "name": "ipython",
    "version": 3
   },
   "file_extension": ".py",
   "mimetype": "text/x-python",
   "name": "python",
   "nbconvert_exporter": "python",
   "pygments_lexer": "ipython3",
   "version": "3.10.5"
  }
 },
 "nbformat": 4,
 "nbformat_minor": 5
}
